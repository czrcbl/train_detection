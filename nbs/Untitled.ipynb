{
 "cells": [
  {
   "cell_type": "code",
   "execution_count": 41,
   "metadata": {},
   "outputs": [
    {
     "name": "stdout",
     "output_type": "stream",
     "text": [
      "The autoreload extension is already loaded. To reload it, use:\n",
      "  %reload_ext autoreload\n"
     ]
    }
   ],
   "source": [
    "%load_ext autoreload\n",
    "%autoreload 2"
   ]
  },
  {
   "cell_type": "code",
   "execution_count": 42,
   "metadata": {},
   "outputs": [],
   "source": [
    "import sys\n",
    "sys.path.insert(0, '../')"
   ]
  },
  {
   "cell_type": "code",
   "execution_count": 43,
   "metadata": {},
   "outputs": [],
   "source": [
    "import mxnet as mx\n",
    "import pickle\n",
    "import numpy as np\n",
    "import gluoncv as gcv\n",
    "from traindet.utils import RealDataset, load_model\n",
    "from traindet import config as cfg"
   ]
  },
  {
   "cell_type": "code",
   "execution_count": 44,
   "metadata": {},
   "outputs": [],
   "source": [
    "with open('../gen_data/predictions.pkl', 'rb') as f:\n",
    "    predictions = pickle.load(f)"
   ]
  },
  {
   "cell_type": "code",
   "execution_count": 45,
   "metadata": {},
   "outputs": [],
   "source": [
    "preds = predictions['ssd300']['predictions']\n",
    "labels = predictions['ssd300']['labels']"
   ]
  },
  {
   "cell_type": "code",
   "execution_count": 46,
   "metadata": {},
   "outputs": [
    {
     "data": {
      "text/plain": [
       "(110, 110)"
      ]
     },
     "execution_count": 46,
     "metadata": {},
     "output_type": "execute_result"
    }
   ],
   "source": [
    "len(preds), len(labels)"
   ]
  },
  {
   "cell_type": "code",
   "execution_count": 47,
   "metadata": {},
   "outputs": [
    {
     "data": {
      "text/plain": [
       "(1, 100, 6)"
      ]
     },
     "execution_count": 47,
     "metadata": {},
     "output_type": "execute_result"
    }
   ],
   "source": [
    "preds[0].shape"
   ]
  },
  {
   "cell_type": "code",
   "execution_count": 48,
   "metadata": {},
   "outputs": [],
   "source": [
    "eval_metric = cfg.eval_metric"
   ]
  },
  {
   "cell_type": "code",
   "execution_count": 49,
   "metadata": {},
   "outputs": [],
   "source": [
    "val_ds = RealDataset(train=False)"
   ]
  },
  {
   "cell_type": "code",
   "execution_count": 50,
   "metadata": {},
   "outputs": [],
   "source": [
    "dataset = val_ds"
   ]
  },
  {
   "cell_type": "code",
   "execution_count": 51,
   "metadata": {},
   "outputs": [],
   "source": [
    "def calc_map(preds, labels, dataset, eval_metric):\n",
    "    eval_metric.reset()\n",
    "    clipper = gcv.nn.bbox.BBoxClipToImage()\n",
    "    for pred, label in zip(preds, labels):\n",
    "        label = label[None, :, :]\n",
    "        pred_bboxes = pred[:, :, :4]\n",
    "        pred_bboxes = pred_bboxes.clip(0, 300)\n",
    "        pred_ids = pred[:, :, 4].astype(np.int)\n",
    "        pred_scores = pred[:, :, 5]\n",
    "        gt_bboxes = label[:, :, :4]\n",
    "        gt_ids = label[:, :, 4].astype(np.int)\n",
    "        eval_metric.update(pred_bboxes, pred_ids, pred_scores, gt_bboxes, gt_ids)\n",
    "    return eval_metric.get()"
   ]
  },
  {
   "cell_type": "code",
   "execution_count": 52,
   "metadata": {},
   "outputs": [
    {
     "data": {
      "text/plain": [
       "(['tray', 'dosing_nozzle', 'button_pad', 'part1', 'part2', 'part3', 'mAP'],\n",
       " [0.504609843937575,\n",
       "  0.44241060952524025,\n",
       "  0.03646664806787045,\n",
       "  0.0,\n",
       "  0.0012894906511927789,\n",
       "  0.0,\n",
       "  0.16412943203031308])"
      ]
     },
     "execution_count": 52,
     "metadata": {},
     "output_type": "execute_result"
    }
   ],
   "source": [
    "preds = predictions['ssd300']['predictions']\n",
    "labels = predictions['ssd300']['labels']\n",
    "calc_map(preds, labels, dataset, eval_metric)"
   ]
  },
  {
   "cell_type": "code",
   "execution_count": 20,
   "metadata": {},
   "outputs": [],
   "source": []
  },
  {
   "cell_type": "code",
   "execution_count": 9,
   "metadata": {},
   "outputs": [],
   "source": [
    "# def calc_map(preds, labels, dataset, eval_metric):\n",
    "#     eval_metric.reset()\n",
    "#     clipper = gcv.nn.bbox.BBoxClipToImage()\n",
    "#     for pred, label, example in zip(preds, labels, dataset):\n",
    "# #         img = example[0].transpose((2, 0, 1)).expand_dims(axis=0)\n",
    "#         pred = pred[None, :, :]\n",
    "#         label = label[None, :, :]\n",
    "#         pred_bboxes = pred[:, :, :4]\n",
    "#         pred_bboxes = pred_bboxes.clip(0, 300)\n",
    "#         pred_ids = pred[:, :, 4].astype(np.int)\n",
    "#         pred_scores = pred[:, :, 5]\n",
    "#         gt_bboxes = label[:, :, :4]\n",
    "#         gt_ids = label[:, :, 4].astype(np.int)\n",
    "#         eval_metric.update(pred_bboxes, pred_ids, pred_scores, gt_bboxes, gt_ids)\n",
    "#     return eval_metric.get()"
   ]
  },
  {
   "cell_type": "code",
   "execution_count": 10,
   "metadata": {},
   "outputs": [],
   "source": [
    "# def calc_map(preds, labels, dataset, eval_metric):\n",
    "#     eval_metric.reset()\n",
    "#     clipper = gcv.nn.bbox.BBoxClipToImage()\n",
    "#     for pred, label, example in zip(preds, labels, dataset):\n",
    "# #         img = example[0].transpose((2, 0, 1)).expand_dims(axis=0)\n",
    "#         pred_bboxes = pred[:, :4]\n",
    "#         pred_bboxes = pred_bboxes.clip(0, 300)\n",
    "#         pred_ids = pred[:, 4].astype(np.int)\n",
    "#         pred_scores = pred[ :, 5]\n",
    "#         gt_bboxes = label[ :, :4]\n",
    "#         gt_ids = label[:, 4].astype(np.int)\n",
    "#         eval_metric.update([pred_bboxes], [pred_ids], [pred_scores], [gt_bboxes], [gt_ids])\n",
    "#     return eval_metric.get()"
   ]
  },
  {
   "cell_type": "code",
   "execution_count": 11,
   "metadata": {},
   "outputs": [],
   "source": [
    "def calc_map(preds, labels, dataset, eval_metric):\n",
    "    eval_metric.reset()\n",
    "    clipper = gcv.nn.bbox.BBoxClipToImage()\n",
    "    for pred, label in zip(preds, labels):\n",
    "        pred = pred[None, :, :]\n",
    "        label = label[None, :, :]\n",
    "        pred_bboxes = pred[:, :, :4]\n",
    "        pred_bboxes = pred_bboxes.clip(0, 300)\n",
    "        pred_ids = pred[:, :, 4].astype(np.int)\n",
    "        pred_scores = pred[:, :, 5]\n",
    "        gt_bboxes = label[:, :, :4]\n",
    "        gt_ids = label[:, :, 4].astype(np.int)\n",
    "        eval_metric.update(pred_bboxes, pred_ids, pred_scores, gt_bboxes, gt_ids)\n",
    "    return eval_metric.get()"
   ]
  },
  {
   "cell_type": "code",
   "execution_count": 12,
   "metadata": {},
   "outputs": [
    {
     "data": {
      "text/plain": [
       "(['tray', 'dosing_nozzle', 'button_pad', 'part1', 'part2', 'part3', 'mAP'],\n",
       " [0.504609843937575,\n",
       "  0.44241060952524025,\n",
       "  0.03646664806787045,\n",
       "  0.0,\n",
       "  0.0012894906511927789,\n",
       "  0.0,\n",
       "  0.16412943203031308])"
      ]
     },
     "execution_count": 12,
     "metadata": {},
     "output_type": "execute_result"
    }
   ],
   "source": [
    "preds = predictions['ssd300']['predictions']\n",
    "labels = predictions['ssd300']['labels']\n",
    "calc_map(preds, labels, dataset, eval_metric)"
   ]
  },
  {
   "cell_type": "code",
   "execution_count": 39,
   "metadata": {},
   "outputs": [],
   "source": [
    "def calc_map(preds, labels, dataset, eval_metric):\n",
    "    eval_metric.reset()\n",
    "    clipper = gcv.nn.bbox.BBoxClipToImage()\n",
    "    for pred, label in zip(preds, labels):\n",
    "#         pred = pred[None, :, :]\n",
    "        label = label[None, :, :]\n",
    "        pred_bboxes = pred[:, :, :4]\n",
    "#         pred_bboxes = pred_bboxes.clip(0, 512)\n",
    "        pred_ids = pred[:, :, 4].astype(np.int)\n",
    "        pred_scores = pred[:, :, 5]\n",
    "        gt_bboxes = label[:, :, :4]\n",
    "        gt_ids = label[:, :, 4].astype(np.int)\n",
    "        eval_metric.update(pred_bboxes, pred_ids, pred_scores, gt_bboxes, gt_ids)\n",
    "    return eval_metric.get()"
   ]
  },
  {
   "cell_type": "code",
   "execution_count": 20,
   "metadata": {},
   "outputs": [
    {
     "data": {
      "text/plain": [
       "(['tray', 'dosing_nozzle', 'button_pad', 'part1', 'part2', 'part3', 'mAP'],\n",
       " [0.6457748533801749,\n",
       "  0.783633634534458,\n",
       "  0.14971146896095425,\n",
       "  0.1669774573216818,\n",
       "  0.40716630649806607,\n",
       "  0.18606851786866607,\n",
       "  0.38988870642733353])"
      ]
     },
     "execution_count": 20,
     "metadata": {},
     "output_type": "execute_result"
    }
   ],
   "source": [
    "preds = predictions['ssd512']['predictions']\n",
    "labels = predictions['ssd512']['labels']\n",
    "calc_map(preds, labels, dataset, eval_metric)"
   ]
  },
  {
   "cell_type": "code",
   "execution_count": 40,
   "metadata": {},
   "outputs": [
    {
     "data": {
      "text/plain": [
       "(['tray', 'dosing_nozzle', 'button_pad', 'part1', 'part2', 'part3', 'mAP'],\n",
       " [0.9749216300940441,\n",
       "  0.9693526170798898,\n",
       "  0.9963636363636366,\n",
       "  0.9230401844532281,\n",
       "  0.97979797979798,\n",
       "  0.9810606060606062,\n",
       "  0.9707561089748974])"
      ]
     },
     "execution_count": 40,
     "metadata": {},
     "output_type": "execute_result"
    }
   ],
   "source": [
    "preds = predictions['frcnn']['predictions']\n",
    "labels = predictions['frcnn']['labels']\n",
    "calc_map(preds, labels, dataset, eval_metric)"
   ]
  },
  {
   "cell_type": "code",
   "execution_count": null,
   "metadata": {},
   "outputs": [],
   "source": []
  }
 ],
 "metadata": {
  "kernelspec": {
   "display_name": "Python 3",
   "language": "python",
   "name": "python3"
  },
  "language_info": {
   "codemirror_mode": {
    "name": "ipython",
    "version": 3
   },
   "file_extension": ".py",
   "mimetype": "text/x-python",
   "name": "python",
   "nbconvert_exporter": "python",
   "pygments_lexer": "ipython3",
   "version": "3.7.3"
  }
 },
 "nbformat": 4,
 "nbformat_minor": 2
}
