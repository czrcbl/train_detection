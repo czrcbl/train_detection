{
 "cells": [
  {
   "cell_type": "code",
   "execution_count": 2,
   "metadata": {},
   "outputs": [],
   "source": [
    "%load_ext autoreload\n",
    "%autoreload 2"
   ]
  },
  {
   "cell_type": "code",
   "execution_count": 3,
   "metadata": {},
   "outputs": [],
   "source": [
    "import sys\n",
    "sys.path.insert(0, '../')"
   ]
  },
  {
   "cell_type": "code",
   "execution_count": 4,
   "metadata": {},
   "outputs": [],
   "source": [
    "import numpy as np\n",
    "import matplotlib.pyplot as plt\n",
    "import pandas as pd\n",
    "import subprocess\n",
    "import pickle\n",
    "from copy import copy\n",
    "from easydict import EasyDict as edict\n",
    "\n",
    "from sklearn import metrics\n",
    "from sklearn.metrics import classification_report\n",
    "\n",
    "from traindet import get_class_preds, build_confusion_matrix, calc_detection\n",
    "import traindet.config as cfg\n",
    "from traindet.utils import RealDataset, load_model, parse_log"
   ]
  },
  {
   "cell_type": "code",
   "execution_count": 5,
   "metadata": {},
   "outputs": [],
   "source": [
    "def save_text(text, filepath):\n",
    "    with open(filepath, 'w') as f:\n",
    "        f.write(text)"
   ]
  },
  {
   "cell_type": "markdown",
   "metadata": {},
   "source": [
    "# Evaluation"
   ]
  },
  {
   "cell_type": "code",
   "execution_count": 5,
   "metadata": {},
   "outputs": [],
   "source": [
    "val_ds = RealDataset(train=False)"
   ]
  },
  {
   "cell_type": "markdown",
   "metadata": {},
   "source": [
    "## mAP\n",
    "The mAP can be extracted from the training logs."
   ]
  },
  {
   "cell_type": "code",
   "execution_count": 6,
   "metadata": {},
   "outputs": [],
   "source": [
    "models = cfg.used_model_names\n",
    "prefixes = [\n",
    "    '../checkpoints/ssd300/transfer_300_ssd_300_vgg16_atrous_coco',\n",
    "    '../checkpoints/ssd512/transfer_512_ssd_512_resnet50_v1_coco',\n",
    "    '../checkpoints/yolo416/transfer_416_yolo3_darknet53_coco',\n",
    "    '../checkpoints/faster_rcnn/transfer_faster_rcnn_resnet50_v1b_coco'\n",
    "]\n",
    "out = {}\n",
    "epochs = {}\n",
    "for model, prefix in zip(models, prefixes):\n",
    "    epochs[model], out[model] = parse_log(prefix)"
   ]
  },
  {
   "cell_type": "code",
   "execution_count": 7,
   "metadata": {},
   "outputs": [
    {
     "data": {
      "text/html": [
       "<div>\n",
       "<style scoped>\n",
       "    .dataframe tbody tr th:only-of-type {\n",
       "        vertical-align: middle;\n",
       "    }\n",
       "\n",
       "    .dataframe tbody tr th {\n",
       "        vertical-align: top;\n",
       "    }\n",
       "\n",
       "    .dataframe thead th {\n",
       "        text-align: right;\n",
       "    }\n",
       "</style>\n",
       "<table border=\"1\" class=\"dataframe\">\n",
       "  <thead>\n",
       "    <tr style=\"text-align: right;\">\n",
       "      <th></th>\n",
       "      <th>SSD300</th>\n",
       "      <th>SSD512</th>\n",
       "      <th>YOLOv3-416</th>\n",
       "      <th>Faster R-CNN</th>\n",
       "    </tr>\n",
       "  </thead>\n",
       "  <tbody>\n",
       "    <tr>\n",
       "      <th>Tray</th>\n",
       "      <td>0.982143</td>\n",
       "      <td>1.000000</td>\n",
       "      <td>0.993939</td>\n",
       "      <td>1.000000</td>\n",
       "    </tr>\n",
       "    <tr>\n",
       "      <th>Dosing Nozzle</th>\n",
       "      <td>1.000000</td>\n",
       "      <td>0.987879</td>\n",
       "      <td>1.000000</td>\n",
       "      <td>0.998145</td>\n",
       "    </tr>\n",
       "    <tr>\n",
       "      <th>Button Pad</th>\n",
       "      <td>0.909091</td>\n",
       "      <td>1.000000</td>\n",
       "      <td>1.000000</td>\n",
       "      <td>1.000000</td>\n",
       "    </tr>\n",
       "    <tr>\n",
       "      <th>Part 01</th>\n",
       "      <td>1.000000</td>\n",
       "      <td>1.000000</td>\n",
       "      <td>0.732468</td>\n",
       "      <td>0.987603</td>\n",
       "    </tr>\n",
       "    <tr>\n",
       "      <th>Part 02</th>\n",
       "      <td>1.000000</td>\n",
       "      <td>1.000000</td>\n",
       "      <td>0.896970</td>\n",
       "      <td>1.000000</td>\n",
       "    </tr>\n",
       "    <tr>\n",
       "      <th>Part 03</th>\n",
       "      <td>0.909091</td>\n",
       "      <td>1.000000</td>\n",
       "      <td>0.797980</td>\n",
       "      <td>0.990909</td>\n",
       "    </tr>\n",
       "    <tr>\n",
       "      <th>mAP</th>\n",
       "      <td>0.966721</td>\n",
       "      <td>0.997980</td>\n",
       "      <td>0.903559</td>\n",
       "      <td>0.996110</td>\n",
       "    </tr>\n",
       "  </tbody>\n",
       "</table>\n",
       "</div>"
      ],
      "text/plain": [
       "                 SSD300    SSD512  YOLOv3-416  Faster R-CNN\n",
       "Tray           0.982143  1.000000    0.993939      1.000000\n",
       "Dosing Nozzle  1.000000  0.987879    1.000000      0.998145\n",
       "Button Pad     0.909091  1.000000    1.000000      1.000000\n",
       "Part 01        1.000000  1.000000    0.732468      0.987603\n",
       "Part 02        1.000000  1.000000    0.896970      1.000000\n",
       "Part 03        0.909091  1.000000    0.797980      0.990909\n",
       "mAP            0.966721  0.997980    0.903559      0.996110"
      ]
     },
     "execution_count": 7,
     "metadata": {},
     "output_type": "execute_result"
    }
   ],
   "source": [
    "index = copy(cfg.classes)\n",
    "index.append('mAP')\n",
    "map_df = pd.DataFrame(out, index=index)\n",
    "map_df.columns = cfg.formated_model_names\n",
    "index = copy(cfg.formated_classes)\n",
    "index.append('mAP')\n",
    "map_df.index = index\n",
    "map_df"
   ]
  },
  {
   "cell_type": "code",
   "execution_count": 8,
   "metadata": {},
   "outputs": [
    {
     "name": "stdout",
     "output_type": "stream",
     "text": [
      "ssd300 best mAP reached on epoch 69.\n",
      "ssd512 best mAP reached on epoch 97.\n",
      "yolo416 best mAP reached on epoch 84.\n",
      "frcnn best mAP reached on epoch 25.\n"
     ]
    }
   ],
   "source": [
    "for key, val in epochs.items():\n",
    "    print(f'{key} best mAP reached on epoch {val}.')"
   ]
  },
  {
   "cell_type": "code",
   "execution_count": 9,
   "metadata": {},
   "outputs": [],
   "source": [
    "save_text(map_df.round(3).to_latex(), '../outputs/map_table.txt')"
   ]
  },
  {
   "cell_type": "markdown",
   "metadata": {},
   "source": [
    "## Classification Metrics"
   ]
  },
  {
   "cell_type": "markdown",
   "metadata": {},
   "source": [
    "Load predictions obtained by running `traindet.main.py`."
   ]
  },
  {
   "cell_type": "code",
   "execution_count": 10,
   "metadata": {},
   "outputs": [],
   "source": [
    "with open('../gen_data/predictions.pkl', 'rb') as f:\n",
    "    data = pickle.load(f)"
   ]
  },
  {
   "cell_type": "code",
   "execution_count": 11,
   "metadata": {},
   "outputs": [
    {
     "data": {
      "text/plain": [
       "dict_keys(['ssd300', 'ssd512', 'yolo416', 'frcnn'])"
      ]
     },
     "execution_count": 11,
     "metadata": {},
     "output_type": "execute_result"
    }
   ],
   "source": [
    "data.keys()"
   ]
  },
  {
   "cell_type": "code",
   "execution_count": 12,
   "metadata": {},
   "outputs": [
    {
     "data": {
      "text/plain": [
       "dict_keys(['predictions', 'labels'])"
      ]
     },
     "execution_count": 12,
     "metadata": {},
     "output_type": "execute_result"
    }
   ],
   "source": [
    "data['ssd300'].keys()"
   ]
  },
  {
   "cell_type": "markdown",
   "metadata": {},
   "source": [
    "## Chosing the classification threshholds\n",
    "Score values may not be equivalent among different models, in order to choose the ideal threshold of each model the number of false positive detections and the number of false negative detections were chosen. Those numbers were converted in a single metric by the sum."
   ]
  },
  {
   "cell_type": "code",
   "execution_count": 13,
   "metadata": {},
   "outputs": [
    {
     "data": {
      "image/png": "[encoded data removed]",
      "text/plain": [
       "<Figure size 1440x432 with 4 Axes>"
      ]
     },
     "metadata": {
      "needs_background": "light"
     },
     "output_type": "display_data"
    }
   ],
   "source": [
    "curves = edict()\n",
    "ths = np.arange(0, 1, 0.05)\n",
    "for model, results in data.items():\n",
    "    curves[model] = []\n",
    "    for th in ths:\n",
    "        out = calc_detection(results['labels'], results['predictions'], th=th, iou_th=0.5)\n",
    "#         out = [1/(o + 0.1) for o in out]\n",
    "#         curves[model].append((2 * out[0] * out[1])/(sum(out)))\n",
    "        curves[model].append(sum(out))\n",
    "\n",
    "fig, axs = plt.subplots(nrows=1, ncols=4, figsize=(20, 6))\n",
    "opt_ths = edict()\n",
    "for ax, (model, vals) in zip(axs, curves.items()):\n",
    "    ax.plot(ths, vals)\n",
    "    ax.set_title(model)\n",
    "    ax.grid()\n",
    "    a = np.array(vals)\n",
    "    idx = np.argwhere(a == np.min(a))[-1].item()\n",
    "    opt_ths[model] = ths[idx]"
   ]
  },
  {
   "cell_type": "markdown",
   "metadata": {},
   "source": [
    "optimal thresholds"
   ]
  },
  {
   "cell_type": "code",
   "execution_count": 14,
   "metadata": {},
   "outputs": [
    {
     "data": {
      "text/plain": [
       "{'ssd300': 0.5, 'ssd512': 0.65, 'yolo416': 0.4, 'frcnn': 0.8}"
      ]
     },
     "execution_count": 14,
     "metadata": {},
     "output_type": "execute_result"
    }
   ],
   "source": [
    "opt_ths"
   ]
  },
  {
   "cell_type": "markdown",
   "metadata": {},
   "source": [
    "### Fixed classification threshold of 0.5\n",
    "First, the classification metrics and confusion matrices wera analyzed with a unified IOU and detection threshold of 0.5 for all models."
   ]
  },
  {
   "cell_type": "code",
   "execution_count": 15,
   "metadata": {},
   "outputs": [
    {
     "name": "stderr",
     "output_type": "stream",
     "text": [
      "/home/cezar/Programs/anaconda3/envs/mx10/lib/python3.7/site-packages/sklearn/metrics/classification.py:1439: UndefinedMetricWarning: Recall is ill-defined and being set to 0.0 in labels with no true samples.\n",
      "  'recall', 'true', average, warn_for)\n",
      "/home/cezar/Programs/anaconda3/envs/mx10/lib/python3.7/site-packages/sklearn/metrics/classification.py:1439: UndefinedMetricWarning: F-score is ill-defined and being set to 0.0 in labels with no true samples.\n",
      "  'recall', 'true', average, warn_for)\n"
     ]
    }
   ],
   "source": [
    "target_names = copy(cfg.classes)\n",
    "target_names.append('Undetected')\n",
    "\n",
    "# Calculate class predictions and labels\n",
    "class_preds = edict()\n",
    "for model, results in data.items():\n",
    "    class_preds[model] = edict()\n",
    "    class_preds[model].preds, class_preds[model].labels = get_class_preds(results['labels'], results['predictions'], th=0.5, iou_th=0.5)\n",
    "   \n",
    "metrics_names = ['Precision', 'Recall', 'F1-score', 'Accuracy']\n",
    "out = edict()\n",
    "conf_matrices = edict()\n",
    "for model, val in class_preds.items():\n",
    "    out[model] = []\n",
    "    out[model].append(metrics.precision_score(val.labels, val.preds, average='weighted'))\n",
    "    out[model].append(metrics.recall_score(val.labels, val.preds, average='weighted'))\n",
    "    out[model].append(metrics.f1_score(val.labels, val.preds, average='weighted'))\n",
    "    out[model].append(metrics.accuracy_score(val.labels, val.preds))\n",
    "    conf_matrices[model] = build_confusion_matrix(val.labels, val.preds, cfg.classes)"
   ]
  },
  {
   "cell_type": "code",
   "execution_count": 16,
   "metadata": {},
   "outputs": [
    {
     "data": {
      "text/plain": [
       "{'ssd300': [0.9944508670520231,\n",
       "  0.930635838150289,\n",
       "  0.9600036485797202,\n",
       "  0.930635838150289],\n",
       " 'ssd512': [0.9826870092931198,\n",
       "  0.9421965317919075,\n",
       "  0.9610940036110509,\n",
       "  0.9421965317919075],\n",
       " 'yolo416': [0.9588212044859444,\n",
       "  0.8323699421965318,\n",
       "  0.8702068476119114,\n",
       "  0.8323699421965318],\n",
       " 'frcnn': [0.9885572726200307,\n",
       "  0.976878612716763,\n",
       "  0.9822971327264075,\n",
       "  0.976878612716763]}"
      ]
     },
     "execution_count": 16,
     "metadata": {},
     "output_type": "execute_result"
    }
   ],
   "source": [
    "out"
   ]
  },
  {
   "cell_type": "code",
   "execution_count": 17,
   "metadata": {},
   "outputs": [
    {
     "data": {
      "text/plain": [
       "0.930635838150289"
      ]
     },
     "execution_count": 17,
     "metadata": {},
     "output_type": "execute_result"
    }
   ],
   "source": [
    "metrics.precision_score(class_preds.ssd300.labels, class_preds.ssd300.preds, average='micro')"
   ]
  },
  {
   "cell_type": "code",
   "execution_count": 18,
   "metadata": {},
   "outputs": [
    {
     "data": {
      "text/plain": [
       "0.930635838150289"
      ]
     },
     "execution_count": 18,
     "metadata": {},
     "output_type": "execute_result"
    }
   ],
   "source": [
    "metrics.recall_score(class_preds.ssd300.labels, class_preds.ssd300.preds, average='micro')"
   ]
  },
  {
   "cell_type": "code",
   "execution_count": 19,
   "metadata": {},
   "outputs": [],
   "source": [
    "def format_cm(cm):\n",
    "    cm = copy(cm)\n",
    "    l = cfg.formated_classes + ['Undetected', 'Total']\n",
    "    cm.columns = l\n",
    "    cm.index = l\n",
    "    cm.drop('Total', axis=1, inplace=True)\n",
    "    return cm"
   ]
  },
  {
   "cell_type": "code",
   "execution_count": 20,
   "metadata": {},
   "outputs": [
    {
     "data": {
      "text/html": [
       "<div>\n",
       "<style scoped>\n",
       "    .dataframe tbody tr th:only-of-type {\n",
       "        vertical-align: middle;\n",
       "    }\n",
       "\n",
       "    .dataframe tbody tr th {\n",
       "        vertical-align: top;\n",
       "    }\n",
       "\n",
       "    .dataframe thead th {\n",
       "        text-align: right;\n",
       "    }\n",
       "</style>\n",
       "<table border=\"1\" class=\"dataframe\">\n",
       "  <thead>\n",
       "    <tr style=\"text-align: right;\">\n",
       "      <th></th>\n",
       "      <th>SSD300</th>\n",
       "      <th>SSD512</th>\n",
       "      <th>YOLOv3-416</th>\n",
       "      <th>Faster R-CNN</th>\n",
       "    </tr>\n",
       "  </thead>\n",
       "  <tbody>\n",
       "    <tr>\n",
       "      <th>Precision</th>\n",
       "      <td>0.994451</td>\n",
       "      <td>0.982687</td>\n",
       "      <td>0.958821</td>\n",
       "      <td>0.988557</td>\n",
       "    </tr>\n",
       "    <tr>\n",
       "      <th>Recall</th>\n",
       "      <td>0.930636</td>\n",
       "      <td>0.942197</td>\n",
       "      <td>0.832370</td>\n",
       "      <td>0.976879</td>\n",
       "    </tr>\n",
       "    <tr>\n",
       "      <th>F1-score</th>\n",
       "      <td>0.960004</td>\n",
       "      <td>0.961094</td>\n",
       "      <td>0.870207</td>\n",
       "      <td>0.982297</td>\n",
       "    </tr>\n",
       "    <tr>\n",
       "      <th>Accuracy</th>\n",
       "      <td>0.930636</td>\n",
       "      <td>0.942197</td>\n",
       "      <td>0.832370</td>\n",
       "      <td>0.976879</td>\n",
       "    </tr>\n",
       "  </tbody>\n",
       "</table>\n",
       "</div>"
      ],
      "text/plain": [
       "             SSD300    SSD512  YOLOv3-416  Faster R-CNN\n",
       "Precision  0.994451  0.982687    0.958821      0.988557\n",
       "Recall     0.930636  0.942197    0.832370      0.976879\n",
       "F1-score   0.960004  0.961094    0.870207      0.982297\n",
       "Accuracy   0.930636  0.942197    0.832370      0.976879"
      ]
     },
     "execution_count": 20,
     "metadata": {},
     "output_type": "execute_result"
    }
   ],
   "source": [
    "metrics_df = pd.DataFrame(out, index=metrics_names)\n",
    "metrics_df.columns = cfg.formated_model_names\n",
    "metrics_df0 = metrics_df\n",
    "metrics_df0"
   ]
  },
  {
   "cell_type": "code",
   "execution_count": 37,
   "metadata": {},
   "outputs": [],
   "source": [
    "save_text(metrics_df0.round(3).to_latex(), '../outputs/metrics.txt')"
   ]
  },
  {
   "cell_type": "code",
   "execution_count": 22,
   "metadata": {},
   "outputs": [
    {
     "data": {
      "text/html": [
       "<div>\n",
       "<style scoped>\n",
       "    .dataframe tbody tr th:only-of-type {\n",
       "        vertical-align: middle;\n",
       "    }\n",
       "\n",
       "    .dataframe tbody tr th {\n",
       "        vertical-align: top;\n",
       "    }\n",
       "\n",
       "    .dataframe thead th {\n",
       "        text-align: right;\n",
       "    }\n",
       "</style>\n",
       "<table border=\"1\" class=\"dataframe\">\n",
       "  <thead>\n",
       "    <tr style=\"text-align: right;\">\n",
       "      <th></th>\n",
       "      <th>tray</th>\n",
       "      <th>dosing_nozzle</th>\n",
       "      <th>button_pad</th>\n",
       "      <th>part1</th>\n",
       "      <th>part2</th>\n",
       "      <th>part3</th>\n",
       "      <th>Undetected</th>\n",
       "      <th>Total</th>\n",
       "    </tr>\n",
       "  </thead>\n",
       "  <tbody>\n",
       "    <tr>\n",
       "      <th>tray</th>\n",
       "      <td>37</td>\n",
       "      <td>0</td>\n",
       "      <td>1</td>\n",
       "      <td>0</td>\n",
       "      <td>0</td>\n",
       "      <td>0</td>\n",
       "      <td>4</td>\n",
       "      <td>42</td>\n",
       "    </tr>\n",
       "    <tr>\n",
       "      <th>dosing_nozzle</th>\n",
       "      <td>0</td>\n",
       "      <td>47</td>\n",
       "      <td>0</td>\n",
       "      <td>0</td>\n",
       "      <td>0</td>\n",
       "      <td>0</td>\n",
       "      <td>1</td>\n",
       "      <td>48</td>\n",
       "    </tr>\n",
       "    <tr>\n",
       "      <th>button_pad</th>\n",
       "      <td>0</td>\n",
       "      <td>0</td>\n",
       "      <td>24</td>\n",
       "      <td>0</td>\n",
       "      <td>0</td>\n",
       "      <td>0</td>\n",
       "      <td>0</td>\n",
       "      <td>24</td>\n",
       "    </tr>\n",
       "    <tr>\n",
       "      <th>part1</th>\n",
       "      <td>0</td>\n",
       "      <td>0</td>\n",
       "      <td>0</td>\n",
       "      <td>19</td>\n",
       "      <td>0</td>\n",
       "      <td>0</td>\n",
       "      <td>0</td>\n",
       "      <td>19</td>\n",
       "    </tr>\n",
       "    <tr>\n",
       "      <th>part2</th>\n",
       "      <td>0</td>\n",
       "      <td>0</td>\n",
       "      <td>0</td>\n",
       "      <td>0</td>\n",
       "      <td>17</td>\n",
       "      <td>0</td>\n",
       "      <td>4</td>\n",
       "      <td>21</td>\n",
       "    </tr>\n",
       "    <tr>\n",
       "      <th>part3</th>\n",
       "      <td>0</td>\n",
       "      <td>0</td>\n",
       "      <td>0</td>\n",
       "      <td>0</td>\n",
       "      <td>0</td>\n",
       "      <td>17</td>\n",
       "      <td>2</td>\n",
       "      <td>19</td>\n",
       "    </tr>\n",
       "    <tr>\n",
       "      <th>Undetected</th>\n",
       "      <td>0</td>\n",
       "      <td>0</td>\n",
       "      <td>0</td>\n",
       "      <td>0</td>\n",
       "      <td>0</td>\n",
       "      <td>0</td>\n",
       "      <td>0</td>\n",
       "      <td>0</td>\n",
       "    </tr>\n",
       "    <tr>\n",
       "      <th>Total</th>\n",
       "      <td>37</td>\n",
       "      <td>47</td>\n",
       "      <td>25</td>\n",
       "      <td>19</td>\n",
       "      <td>17</td>\n",
       "      <td>17</td>\n",
       "      <td>11</td>\n",
       "      <td>173</td>\n",
       "    </tr>\n",
       "  </tbody>\n",
       "</table>\n",
       "</div>"
      ],
      "text/plain": [
       "               tray  dosing_nozzle  button_pad  part1  part2  part3  \\\n",
       "tray             37              0           1      0      0      0   \n",
       "dosing_nozzle     0             47           0      0      0      0   \n",
       "button_pad        0              0          24      0      0      0   \n",
       "part1             0              0           0     19      0      0   \n",
       "part2             0              0           0      0     17      0   \n",
       "part3             0              0           0      0      0     17   \n",
       "Undetected        0              0           0      0      0      0   \n",
       "Total            37             47          25     19     17     17   \n",
       "\n",
       "               Undetected  Total  \n",
       "tray                    4     42  \n",
       "dosing_nozzle           1     48  \n",
       "button_pad              0     24  \n",
       "part1                   0     19  \n",
       "part2                   4     21  \n",
       "part3                   2     19  \n",
       "Undetected              0      0  \n",
       "Total                  11    173  "
      ]
     },
     "execution_count": 22,
     "metadata": {},
     "output_type": "execute_result"
    }
   ],
   "source": [
    "save_text(format_cm(conf_matrices['ssd300']).to_latex(), '../outputs/cm_ssd300.txt')\n",
    "conf_matrices['ssd300']"
   ]
  },
  {
   "cell_type": "code",
   "execution_count": 23,
   "metadata": {},
   "outputs": [
    {
     "data": {
      "text/html": [
       "<div>\n",
       "<style scoped>\n",
       "    .dataframe tbody tr th:only-of-type {\n",
       "        vertical-align: middle;\n",
       "    }\n",
       "\n",
       "    .dataframe tbody tr th {\n",
       "        vertical-align: top;\n",
       "    }\n",
       "\n",
       "    .dataframe thead th {\n",
       "        text-align: right;\n",
       "    }\n",
       "</style>\n",
       "<table border=\"1\" class=\"dataframe\">\n",
       "  <thead>\n",
       "    <tr style=\"text-align: right;\">\n",
       "      <th></th>\n",
       "      <th>tray</th>\n",
       "      <th>dosing_nozzle</th>\n",
       "      <th>button_pad</th>\n",
       "      <th>part1</th>\n",
       "      <th>part2</th>\n",
       "      <th>part3</th>\n",
       "      <th>Undetected</th>\n",
       "      <th>Total</th>\n",
       "    </tr>\n",
       "  </thead>\n",
       "  <tbody>\n",
       "    <tr>\n",
       "      <th>tray</th>\n",
       "      <td>38</td>\n",
       "      <td>0</td>\n",
       "      <td>1</td>\n",
       "      <td>0</td>\n",
       "      <td>0</td>\n",
       "      <td>0</td>\n",
       "      <td>3</td>\n",
       "      <td>42</td>\n",
       "    </tr>\n",
       "    <tr>\n",
       "      <th>dosing_nozzle</th>\n",
       "      <td>0</td>\n",
       "      <td>48</td>\n",
       "      <td>0</td>\n",
       "      <td>0</td>\n",
       "      <td>0</td>\n",
       "      <td>0</td>\n",
       "      <td>0</td>\n",
       "      <td>48</td>\n",
       "    </tr>\n",
       "    <tr>\n",
       "      <th>button_pad</th>\n",
       "      <td>0</td>\n",
       "      <td>0</td>\n",
       "      <td>24</td>\n",
       "      <td>0</td>\n",
       "      <td>0</td>\n",
       "      <td>0</td>\n",
       "      <td>0</td>\n",
       "      <td>24</td>\n",
       "    </tr>\n",
       "    <tr>\n",
       "      <th>part1</th>\n",
       "      <td>0</td>\n",
       "      <td>1</td>\n",
       "      <td>0</td>\n",
       "      <td>17</td>\n",
       "      <td>0</td>\n",
       "      <td>0</td>\n",
       "      <td>1</td>\n",
       "      <td>19</td>\n",
       "    </tr>\n",
       "    <tr>\n",
       "      <th>part2</th>\n",
       "      <td>0</td>\n",
       "      <td>0</td>\n",
       "      <td>0</td>\n",
       "      <td>0</td>\n",
       "      <td>19</td>\n",
       "      <td>0</td>\n",
       "      <td>2</td>\n",
       "      <td>21</td>\n",
       "    </tr>\n",
       "    <tr>\n",
       "      <th>part3</th>\n",
       "      <td>0</td>\n",
       "      <td>0</td>\n",
       "      <td>0</td>\n",
       "      <td>1</td>\n",
       "      <td>0</td>\n",
       "      <td>17</td>\n",
       "      <td>1</td>\n",
       "      <td>19</td>\n",
       "    </tr>\n",
       "    <tr>\n",
       "      <th>Undetected</th>\n",
       "      <td>0</td>\n",
       "      <td>0</td>\n",
       "      <td>0</td>\n",
       "      <td>0</td>\n",
       "      <td>0</td>\n",
       "      <td>0</td>\n",
       "      <td>0</td>\n",
       "      <td>0</td>\n",
       "    </tr>\n",
       "    <tr>\n",
       "      <th>Total</th>\n",
       "      <td>38</td>\n",
       "      <td>49</td>\n",
       "      <td>25</td>\n",
       "      <td>18</td>\n",
       "      <td>19</td>\n",
       "      <td>17</td>\n",
       "      <td>7</td>\n",
       "      <td>173</td>\n",
       "    </tr>\n",
       "  </tbody>\n",
       "</table>\n",
       "</div>"
      ],
      "text/plain": [
       "               tray  dosing_nozzle  button_pad  part1  part2  part3  \\\n",
       "tray             38              0           1      0      0      0   \n",
       "dosing_nozzle     0             48           0      0      0      0   \n",
       "button_pad        0              0          24      0      0      0   \n",
       "part1             0              1           0     17      0      0   \n",
       "part2             0              0           0      0     19      0   \n",
       "part3             0              0           0      1      0     17   \n",
       "Undetected        0              0           0      0      0      0   \n",
       "Total            38             49          25     18     19     17   \n",
       "\n",
       "               Undetected  Total  \n",
       "tray                    3     42  \n",
       "dosing_nozzle           0     48  \n",
       "button_pad              0     24  \n",
       "part1                   1     19  \n",
       "part2                   2     21  \n",
       "part3                   1     19  \n",
       "Undetected              0      0  \n",
       "Total                   7    173  "
      ]
     },
     "execution_count": 23,
     "metadata": {},
     "output_type": "execute_result"
    }
   ],
   "source": [
    "save_text(format_cm(conf_matrices['ssd512']).to_latex(), '../outputs/cm_ssd512.txt')\n",
    "conf_matrices['ssd512']"
   ]
  },
  {
   "cell_type": "code",
   "execution_count": 24,
   "metadata": {},
   "outputs": [
    {
     "data": {
      "text/html": [
       "<div>\n",
       "<style scoped>\n",
       "    .dataframe tbody tr th:only-of-type {\n",
       "        vertical-align: middle;\n",
       "    }\n",
       "\n",
       "    .dataframe tbody tr th {\n",
       "        vertical-align: top;\n",
       "    }\n",
       "\n",
       "    .dataframe thead th {\n",
       "        text-align: right;\n",
       "    }\n",
       "</style>\n",
       "<table border=\"1\" class=\"dataframe\">\n",
       "  <thead>\n",
       "    <tr style=\"text-align: right;\">\n",
       "      <th></th>\n",
       "      <th>tray</th>\n",
       "      <th>dosing_nozzle</th>\n",
       "      <th>button_pad</th>\n",
       "      <th>part1</th>\n",
       "      <th>part2</th>\n",
       "      <th>part3</th>\n",
       "      <th>Undetected</th>\n",
       "      <th>Total</th>\n",
       "    </tr>\n",
       "  </thead>\n",
       "  <tbody>\n",
       "    <tr>\n",
       "      <th>tray</th>\n",
       "      <td>40</td>\n",
       "      <td>0</td>\n",
       "      <td>2</td>\n",
       "      <td>0</td>\n",
       "      <td>0</td>\n",
       "      <td>0</td>\n",
       "      <td>0</td>\n",
       "      <td>42</td>\n",
       "    </tr>\n",
       "    <tr>\n",
       "      <th>dosing_nozzle</th>\n",
       "      <td>0</td>\n",
       "      <td>48</td>\n",
       "      <td>0</td>\n",
       "      <td>0</td>\n",
       "      <td>0</td>\n",
       "      <td>0</td>\n",
       "      <td>0</td>\n",
       "      <td>48</td>\n",
       "    </tr>\n",
       "    <tr>\n",
       "      <th>button_pad</th>\n",
       "      <td>0</td>\n",
       "      <td>0</td>\n",
       "      <td>24</td>\n",
       "      <td>0</td>\n",
       "      <td>0</td>\n",
       "      <td>0</td>\n",
       "      <td>0</td>\n",
       "      <td>24</td>\n",
       "    </tr>\n",
       "    <tr>\n",
       "      <th>part1</th>\n",
       "      <td>0</td>\n",
       "      <td>0</td>\n",
       "      <td>0</td>\n",
       "      <td>6</td>\n",
       "      <td>0</td>\n",
       "      <td>3</td>\n",
       "      <td>10</td>\n",
       "      <td>19</td>\n",
       "    </tr>\n",
       "    <tr>\n",
       "      <th>part2</th>\n",
       "      <td>0</td>\n",
       "      <td>0</td>\n",
       "      <td>0</td>\n",
       "      <td>0</td>\n",
       "      <td>13</td>\n",
       "      <td>2</td>\n",
       "      <td>6</td>\n",
       "      <td>21</td>\n",
       "    </tr>\n",
       "    <tr>\n",
       "      <th>part3</th>\n",
       "      <td>0</td>\n",
       "      <td>0</td>\n",
       "      <td>0</td>\n",
       "      <td>0</td>\n",
       "      <td>0</td>\n",
       "      <td>13</td>\n",
       "      <td>6</td>\n",
       "      <td>19</td>\n",
       "    </tr>\n",
       "    <tr>\n",
       "      <th>Undetected</th>\n",
       "      <td>0</td>\n",
       "      <td>0</td>\n",
       "      <td>0</td>\n",
       "      <td>0</td>\n",
       "      <td>0</td>\n",
       "      <td>0</td>\n",
       "      <td>0</td>\n",
       "      <td>0</td>\n",
       "    </tr>\n",
       "    <tr>\n",
       "      <th>Total</th>\n",
       "      <td>40</td>\n",
       "      <td>48</td>\n",
       "      <td>26</td>\n",
       "      <td>6</td>\n",
       "      <td>13</td>\n",
       "      <td>18</td>\n",
       "      <td>22</td>\n",
       "      <td>173</td>\n",
       "    </tr>\n",
       "  </tbody>\n",
       "</table>\n",
       "</div>"
      ],
      "text/plain": [
       "               tray  dosing_nozzle  button_pad  part1  part2  part3  \\\n",
       "tray             40              0           2      0      0      0   \n",
       "dosing_nozzle     0             48           0      0      0      0   \n",
       "button_pad        0              0          24      0      0      0   \n",
       "part1             0              0           0      6      0      3   \n",
       "part2             0              0           0      0     13      2   \n",
       "part3             0              0           0      0      0     13   \n",
       "Undetected        0              0           0      0      0      0   \n",
       "Total            40             48          26      6     13     18   \n",
       "\n",
       "               Undetected  Total  \n",
       "tray                    0     42  \n",
       "dosing_nozzle           0     48  \n",
       "button_pad              0     24  \n",
       "part1                  10     19  \n",
       "part2                   6     21  \n",
       "part3                   6     19  \n",
       "Undetected              0      0  \n",
       "Total                  22    173  "
      ]
     },
     "execution_count": 24,
     "metadata": {},
     "output_type": "execute_result"
    }
   ],
   "source": [
    "save_text(format_cm(conf_matrices['yolo416']).to_latex(), '../outputs/cm_yolo416.txt')\n",
    "conf_matrices['yolo416']"
   ]
  },
  {
   "cell_type": "code",
   "execution_count": 25,
   "metadata": {},
   "outputs": [
    {
     "data": {
      "text/html": [
       "<div>\n",
       "<style scoped>\n",
       "    .dataframe tbody tr th:only-of-type {\n",
       "        vertical-align: middle;\n",
       "    }\n",
       "\n",
       "    .dataframe tbody tr th {\n",
       "        vertical-align: top;\n",
       "    }\n",
       "\n",
       "    .dataframe thead th {\n",
       "        text-align: right;\n",
       "    }\n",
       "</style>\n",
       "<table border=\"1\" class=\"dataframe\">\n",
       "  <thead>\n",
       "    <tr style=\"text-align: right;\">\n",
       "      <th></th>\n",
       "      <th>tray</th>\n",
       "      <th>dosing_nozzle</th>\n",
       "      <th>button_pad</th>\n",
       "      <th>part1</th>\n",
       "      <th>part2</th>\n",
       "      <th>part3</th>\n",
       "      <th>Undetected</th>\n",
       "      <th>Total</th>\n",
       "    </tr>\n",
       "  </thead>\n",
       "  <tbody>\n",
       "    <tr>\n",
       "      <th>tray</th>\n",
       "      <td>42</td>\n",
       "      <td>0</td>\n",
       "      <td>0</td>\n",
       "      <td>0</td>\n",
       "      <td>0</td>\n",
       "      <td>0</td>\n",
       "      <td>0</td>\n",
       "      <td>42</td>\n",
       "    </tr>\n",
       "    <tr>\n",
       "      <th>dosing_nozzle</th>\n",
       "      <td>0</td>\n",
       "      <td>48</td>\n",
       "      <td>0</td>\n",
       "      <td>0</td>\n",
       "      <td>0</td>\n",
       "      <td>0</td>\n",
       "      <td>0</td>\n",
       "      <td>48</td>\n",
       "    </tr>\n",
       "    <tr>\n",
       "      <th>button_pad</th>\n",
       "      <td>0</td>\n",
       "      <td>0</td>\n",
       "      <td>24</td>\n",
       "      <td>0</td>\n",
       "      <td>0</td>\n",
       "      <td>0</td>\n",
       "      <td>0</td>\n",
       "      <td>24</td>\n",
       "    </tr>\n",
       "    <tr>\n",
       "      <th>part1</th>\n",
       "      <td>0</td>\n",
       "      <td>1</td>\n",
       "      <td>0</td>\n",
       "      <td>18</td>\n",
       "      <td>0</td>\n",
       "      <td>0</td>\n",
       "      <td>0</td>\n",
       "      <td>19</td>\n",
       "    </tr>\n",
       "    <tr>\n",
       "      <th>part2</th>\n",
       "      <td>0</td>\n",
       "      <td>0</td>\n",
       "      <td>0</td>\n",
       "      <td>0</td>\n",
       "      <td>20</td>\n",
       "      <td>0</td>\n",
       "      <td>1</td>\n",
       "      <td>21</td>\n",
       "    </tr>\n",
       "    <tr>\n",
       "      <th>part3</th>\n",
       "      <td>0</td>\n",
       "      <td>0</td>\n",
       "      <td>0</td>\n",
       "      <td>1</td>\n",
       "      <td>0</td>\n",
       "      <td>17</td>\n",
       "      <td>1</td>\n",
       "      <td>19</td>\n",
       "    </tr>\n",
       "    <tr>\n",
       "      <th>Undetected</th>\n",
       "      <td>0</td>\n",
       "      <td>0</td>\n",
       "      <td>0</td>\n",
       "      <td>0</td>\n",
       "      <td>0</td>\n",
       "      <td>0</td>\n",
       "      <td>0</td>\n",
       "      <td>0</td>\n",
       "    </tr>\n",
       "    <tr>\n",
       "      <th>Total</th>\n",
       "      <td>42</td>\n",
       "      <td>49</td>\n",
       "      <td>24</td>\n",
       "      <td>19</td>\n",
       "      <td>20</td>\n",
       "      <td>17</td>\n",
       "      <td>2</td>\n",
       "      <td>173</td>\n",
       "    </tr>\n",
       "  </tbody>\n",
       "</table>\n",
       "</div>"
      ],
      "text/plain": [
       "               tray  dosing_nozzle  button_pad  part1  part2  part3  \\\n",
       "tray             42              0           0      0      0      0   \n",
       "dosing_nozzle     0             48           0      0      0      0   \n",
       "button_pad        0              0          24      0      0      0   \n",
       "part1             0              1           0     18      0      0   \n",
       "part2             0              0           0      0     20      0   \n",
       "part3             0              0           0      1      0     17   \n",
       "Undetected        0              0           0      0      0      0   \n",
       "Total            42             49          24     19     20     17   \n",
       "\n",
       "               Undetected  Total  \n",
       "tray                    0     42  \n",
       "dosing_nozzle           0     48  \n",
       "button_pad              0     24  \n",
       "part1                   0     19  \n",
       "part2                   1     21  \n",
       "part3                   1     19  \n",
       "Undetected              0      0  \n",
       "Total                   2    173  "
      ]
     },
     "execution_count": 25,
     "metadata": {},
     "output_type": "execute_result"
    }
   ],
   "source": [
    "save_text(format_cm(conf_matrices['frcnn']).to_latex(), '../outputs/cm_frcnn.txt')\n",
    "conf_matrices['frcnn']"
   ]
  },
  {
   "cell_type": "code",
   "execution_count": 26,
   "metadata": {},
   "outputs": [],
   "source": [
    "conf_matrices0 = conf_matrices"
   ]
  },
  {
   "cell_type": "markdown",
   "metadata": {},
   "source": [
    "### With different thresholds per model\n",
    "Now, the confusion classification metrics and confusion matrices with the calculated threshold."
   ]
  },
  {
   "cell_type": "markdown",
   "metadata": {},
   "source": [
    "It can be seen that after adapting the threshold the number of undetected examples was greatly reduced, without hurting the classification performance."
   ]
  },
  {
   "cell_type": "code",
   "execution_count": 27,
   "metadata": {},
   "outputs": [],
   "source": [
    "# Calculate class predictions and labels\n",
    "class_preds = edict()\n",
    "for model, results in data.items():\n",
    "    class_preds[model] = edict()\n",
    "    class_preds[model].preds, class_preds[model].labels = get_class_preds(results['labels'], results['predictions'], th=opt_ths[model], iou_th=0.5)\n",
    "   \n",
    "metrics_names = ['Precision', 'Recall', 'F1-score', 'Accuracy']\n",
    "out = edict()\n",
    "conf_matrices = edict()\n",
    "for model, val in class_preds.items():\n",
    "    out[model] = []\n",
    "    out[model].append(metrics.precision_score(val.labels, val.preds, average='macro'))\n",
    "    out[model].append(metrics.recall_score(val.labels, val.preds, average='macro'))\n",
    "    out[model].append(metrics.f1_score(val.labels, val.preds, average='macro'))\n",
    "    out[model].append(metrics.accuracy_score(val.labels, val.preds))\n",
    "    conf_matrices[model] = build_confusion_matrix(val.labels, val.preds, cfg.classes)"
   ]
  },
  {
   "cell_type": "code",
   "execution_count": 28,
   "metadata": {},
   "outputs": [
    {
     "data": {
      "text/html": [
       "<div>\n",
       "<style scoped>\n",
       "    .dataframe tbody tr th:only-of-type {\n",
       "        vertical-align: middle;\n",
       "    }\n",
       "\n",
       "    .dataframe tbody tr th {\n",
       "        vertical-align: top;\n",
       "    }\n",
       "\n",
       "    .dataframe thead th {\n",
       "        text-align: right;\n",
       "    }\n",
       "</style>\n",
       "<table border=\"1\" class=\"dataframe\">\n",
       "  <thead>\n",
       "    <tr style=\"text-align: right;\">\n",
       "      <th></th>\n",
       "      <th>SSD300</th>\n",
       "      <th>SSD512</th>\n",
       "      <th>YOLOv3-416</th>\n",
       "      <th>Faster R-CNN</th>\n",
       "    </tr>\n",
       "  </thead>\n",
       "  <tbody>\n",
       "    <tr>\n",
       "      <th>Precision</th>\n",
       "      <td>0.851429</td>\n",
       "      <td>0.843492</td>\n",
       "      <td>0.794206</td>\n",
       "      <td>0.857143</td>\n",
       "    </tr>\n",
       "    <tr>\n",
       "      <th>Recall</th>\n",
       "      <td>0.794911</td>\n",
       "      <td>0.779583</td>\n",
       "      <td>0.689223</td>\n",
       "      <td>0.827784</td>\n",
       "    </tr>\n",
       "    <tr>\n",
       "      <th>F1-score</th>\n",
       "      <td>0.820708</td>\n",
       "      <td>0.809228</td>\n",
       "      <td>0.720638</td>\n",
       "      <td>0.841861</td>\n",
       "    </tr>\n",
       "    <tr>\n",
       "      <th>Accuracy</th>\n",
       "      <td>0.930636</td>\n",
       "      <td>0.919075</td>\n",
       "      <td>0.861272</td>\n",
       "      <td>0.976879</td>\n",
       "    </tr>\n",
       "  </tbody>\n",
       "</table>\n",
       "</div>"
      ],
      "text/plain": [
       "             SSD300    SSD512  YOLOv3-416  Faster R-CNN\n",
       "Precision  0.851429  0.843492    0.794206      0.857143\n",
       "Recall     0.794911  0.779583    0.689223      0.827784\n",
       "F1-score   0.820708  0.809228    0.720638      0.841861\n",
       "Accuracy   0.930636  0.919075    0.861272      0.976879"
      ]
     },
     "execution_count": 28,
     "metadata": {},
     "output_type": "execute_result"
    }
   ],
   "source": [
    "metrics_df = pd.DataFrame(out, index=metrics_names)\n",
    "metrics_df.columns = cfg.formated_model_names\n",
    "metrics_df1 = metrics_df\n",
    "metrics_df1"
   ]
  },
  {
   "cell_type": "code",
   "execution_count": 29,
   "metadata": {},
   "outputs": [
    {
     "data": {
      "text/html": [
       "<div>\n",
       "<style scoped>\n",
       "    .dataframe tbody tr th:only-of-type {\n",
       "        vertical-align: middle;\n",
       "    }\n",
       "\n",
       "    .dataframe tbody tr th {\n",
       "        vertical-align: top;\n",
       "    }\n",
       "\n",
       "    .dataframe thead th {\n",
       "        text-align: right;\n",
       "    }\n",
       "</style>\n",
       "<table border=\"1\" class=\"dataframe\">\n",
       "  <thead>\n",
       "    <tr style=\"text-align: right;\">\n",
       "      <th></th>\n",
       "      <th>SSD300</th>\n",
       "      <th>SSD512</th>\n",
       "      <th>YOLOv3-416</th>\n",
       "      <th>Faster R-CNN</th>\n",
       "    </tr>\n",
       "  </thead>\n",
       "  <tbody>\n",
       "    <tr>\n",
       "      <th>Precision</th>\n",
       "      <td>-0.143022</td>\n",
       "      <td>-0.139195</td>\n",
       "      <td>-0.164615</td>\n",
       "      <td>-0.131414</td>\n",
       "    </tr>\n",
       "    <tr>\n",
       "      <th>Recall</th>\n",
       "      <td>-0.135724</td>\n",
       "      <td>-0.162614</td>\n",
       "      <td>-0.143147</td>\n",
       "      <td>-0.149095</td>\n",
       "    </tr>\n",
       "    <tr>\n",
       "      <th>F1-score</th>\n",
       "      <td>-0.139296</td>\n",
       "      <td>-0.151866</td>\n",
       "      <td>-0.149569</td>\n",
       "      <td>-0.140436</td>\n",
       "    </tr>\n",
       "    <tr>\n",
       "      <th>Accuracy</th>\n",
       "      <td>0.000000</td>\n",
       "      <td>-0.023121</td>\n",
       "      <td>0.028902</td>\n",
       "      <td>0.000000</td>\n",
       "    </tr>\n",
       "  </tbody>\n",
       "</table>\n",
       "</div>"
      ],
      "text/plain": [
       "             SSD300    SSD512  YOLOv3-416  Faster R-CNN\n",
       "Precision -0.143022 -0.139195   -0.164615     -0.131414\n",
       "Recall    -0.135724 -0.162614   -0.143147     -0.149095\n",
       "F1-score  -0.139296 -0.151866   -0.149569     -0.140436\n",
       "Accuracy   0.000000 -0.023121    0.028902      0.000000"
      ]
     },
     "execution_count": 29,
     "metadata": {},
     "output_type": "execute_result"
    }
   ],
   "source": [
    "metrics_df1 - metrics_df0"
   ]
  },
  {
   "cell_type": "code",
   "execution_count": 30,
   "metadata": {},
   "outputs": [],
   "source": [
    "with open('../gen_data/thresholds.pkl', 'wb') as f:\n",
    "    pickle.dump(opt_ths, f)"
   ]
  },
  {
   "cell_type": "code",
   "execution_count": 31,
   "metadata": {},
   "outputs": [],
   "source": [
    "dets = {}\n",
    "ths = np.arange(0, 1, 0.05)\n",
    "for model, results in data.items():\n",
    "    dets[model] = {}\n",
    "    for th in ths:\n",
    "        out = calc_detection(results['labels'], results['predictions'], th=th, iou_th=0.5)\n",
    "#         out = [1/(o + 0.1) for o in out]\n",
    "#         curves[model].append((2 * out[0] * out[1])/(sum(out)))\n",
    "        dets[model][th] = out"
   ]
  },
  {
   "cell_type": "code",
   "execution_count": 32,
   "metadata": {},
   "outputs": [
    {
     "data": {
      "text/html": [
       "<div>\n",
       "<style scoped>\n",
       "    .dataframe tbody tr th:only-of-type {\n",
       "        vertical-align: middle;\n",
       "    }\n",
       "\n",
       "    .dataframe tbody tr th {\n",
       "        vertical-align: top;\n",
       "    }\n",
       "\n",
       "    .dataframe thead th {\n",
       "        text-align: right;\n",
       "    }\n",
       "</style>\n",
       "<table border=\"1\" class=\"dataframe\">\n",
       "  <thead>\n",
       "    <tr style=\"text-align: right;\">\n",
       "      <th></th>\n",
       "      <th>ssd300</th>\n",
       "      <th>ssd512</th>\n",
       "      <th>yolo416</th>\n",
       "      <th>frcnn</th>\n",
       "    </tr>\n",
       "  </thead>\n",
       "  <tbody>\n",
       "    <tr>\n",
       "      <th>0.00</th>\n",
       "      <td>(0, 530)</td>\n",
       "      <td>(0, 413)</td>\n",
       "      <td>(1, 392)</td>\n",
       "      <td>(1, 94)</td>\n",
       "    </tr>\n",
       "    <tr>\n",
       "      <th>0.05</th>\n",
       "      <td>(1, 111)</td>\n",
       "      <td>(2, 78)</td>\n",
       "      <td>(1, 145)</td>\n",
       "      <td>(1, 33)</td>\n",
       "    </tr>\n",
       "    <tr>\n",
       "      <th>0.10</th>\n",
       "      <td>(2, 48)</td>\n",
       "      <td>(2, 56)</td>\n",
       "      <td>(3, 88)</td>\n",
       "      <td>(1, 19)</td>\n",
       "    </tr>\n",
       "    <tr>\n",
       "      <th>0.15</th>\n",
       "      <td>(2, 35)</td>\n",
       "      <td>(2, 39)</td>\n",
       "      <td>(5, 65)</td>\n",
       "      <td>(1, 16)</td>\n",
       "    </tr>\n",
       "    <tr>\n",
       "      <th>0.20</th>\n",
       "      <td>(5, 27)</td>\n",
       "      <td>(2, 32)</td>\n",
       "      <td>(7, 44)</td>\n",
       "      <td>(1, 12)</td>\n",
       "    </tr>\n",
       "    <tr>\n",
       "      <th>0.25</th>\n",
       "      <td>(5, 23)</td>\n",
       "      <td>(2, 23)</td>\n",
       "      <td>(11, 29)</td>\n",
       "      <td>(1, 10)</td>\n",
       "    </tr>\n",
       "    <tr>\n",
       "      <th>0.30</th>\n",
       "      <td>(6, 15)</td>\n",
       "      <td>(2, 18)</td>\n",
       "      <td>(15, 21)</td>\n",
       "      <td>(1, 8)</td>\n",
       "    </tr>\n",
       "    <tr>\n",
       "      <th>0.35</th>\n",
       "      <td>(8, 14)</td>\n",
       "      <td>(5, 16)</td>\n",
       "      <td>(19, 19)</td>\n",
       "      <td>(2, 8)</td>\n",
       "    </tr>\n",
       "    <tr>\n",
       "      <th>0.40</th>\n",
       "      <td>(9, 10)</td>\n",
       "      <td>(7, 13)</td>\n",
       "      <td>(22, 14)</td>\n",
       "      <td>(2, 8)</td>\n",
       "    </tr>\n",
       "    <tr>\n",
       "      <th>0.45</th>\n",
       "      <td>(9, 10)</td>\n",
       "      <td>(9, 12)</td>\n",
       "      <td>(26, 12)</td>\n",
       "      <td>(2, 7)</td>\n",
       "    </tr>\n",
       "    <tr>\n",
       "      <th>0.50</th>\n",
       "      <td>(12, 6)</td>\n",
       "      <td>(9, 12)</td>\n",
       "      <td>(28, 9)</td>\n",
       "      <td>(3, 7)</td>\n",
       "    </tr>\n",
       "    <tr>\n",
       "      <th>0.55</th>\n",
       "      <td>(14, 6)</td>\n",
       "      <td>(11, 10)</td>\n",
       "      <td>(31, 8)</td>\n",
       "      <td>(3, 6)</td>\n",
       "    </tr>\n",
       "    <tr>\n",
       "      <th>0.60</th>\n",
       "      <td>(16, 4)</td>\n",
       "      <td>(12, 9)</td>\n",
       "      <td>(34, 5)</td>\n",
       "      <td>(4, 5)</td>\n",
       "    </tr>\n",
       "    <tr>\n",
       "      <th>0.65</th>\n",
       "      <td>(18, 4)</td>\n",
       "      <td>(14, 6)</td>\n",
       "      <td>(37, 4)</td>\n",
       "      <td>(4, 3)</td>\n",
       "    </tr>\n",
       "    <tr>\n",
       "      <th>0.70</th>\n",
       "      <td>(20, 4)</td>\n",
       "      <td>(17, 6)</td>\n",
       "      <td>(45, 2)</td>\n",
       "      <td>(4, 3)</td>\n",
       "    </tr>\n",
       "    <tr>\n",
       "      <th>0.75</th>\n",
       "      <td>(28, 4)</td>\n",
       "      <td>(19, 4)</td>\n",
       "      <td>(52, 1)</td>\n",
       "      <td>(4, 2)</td>\n",
       "    </tr>\n",
       "    <tr>\n",
       "      <th>0.80</th>\n",
       "      <td>(32, 4)</td>\n",
       "      <td>(20, 4)</td>\n",
       "      <td>(55, 1)</td>\n",
       "      <td>(4, 1)</td>\n",
       "    </tr>\n",
       "    <tr>\n",
       "      <th>0.85</th>\n",
       "      <td>(37, 3)</td>\n",
       "      <td>(23, 3)</td>\n",
       "      <td>(59, 1)</td>\n",
       "      <td>(5, 1)</td>\n",
       "    </tr>\n",
       "    <tr>\n",
       "      <th>0.90</th>\n",
       "      <td>(46, 3)</td>\n",
       "      <td>(30, 3)</td>\n",
       "      <td>(71, 1)</td>\n",
       "      <td>(6, 1)</td>\n",
       "    </tr>\n",
       "    <tr>\n",
       "      <th>0.95</th>\n",
       "      <td>(57, 3)</td>\n",
       "      <td>(38, 1)</td>\n",
       "      <td>(87, 1)</td>\n",
       "      <td>(8, 1)</td>\n",
       "    </tr>\n",
       "  </tbody>\n",
       "</table>\n",
       "</div>"
      ],
      "text/plain": [
       "        ssd300    ssd512   yolo416    frcnn\n",
       "0.00  (0, 530)  (0, 413)  (1, 392)  (1, 94)\n",
       "0.05  (1, 111)   (2, 78)  (1, 145)  (1, 33)\n",
       "0.10   (2, 48)   (2, 56)   (3, 88)  (1, 19)\n",
       "0.15   (2, 35)   (2, 39)   (5, 65)  (1, 16)\n",
       "0.20   (5, 27)   (2, 32)   (7, 44)  (1, 12)\n",
       "0.25   (5, 23)   (2, 23)  (11, 29)  (1, 10)\n",
       "0.30   (6, 15)   (2, 18)  (15, 21)   (1, 8)\n",
       "0.35   (8, 14)   (5, 16)  (19, 19)   (2, 8)\n",
       "0.40   (9, 10)   (7, 13)  (22, 14)   (2, 8)\n",
       "0.45   (9, 10)   (9, 12)  (26, 12)   (2, 7)\n",
       "0.50   (12, 6)   (9, 12)   (28, 9)   (3, 7)\n",
       "0.55   (14, 6)  (11, 10)   (31, 8)   (3, 6)\n",
       "0.60   (16, 4)   (12, 9)   (34, 5)   (4, 5)\n",
       "0.65   (18, 4)   (14, 6)   (37, 4)   (4, 3)\n",
       "0.70   (20, 4)   (17, 6)   (45, 2)   (4, 3)\n",
       "0.75   (28, 4)   (19, 4)   (52, 1)   (4, 2)\n",
       "0.80   (32, 4)   (20, 4)   (55, 1)   (4, 1)\n",
       "0.85   (37, 3)   (23, 3)   (59, 1)   (5, 1)\n",
       "0.90   (46, 3)   (30, 3)   (71, 1)   (6, 1)\n",
       "0.95   (57, 3)   (38, 1)   (87, 1)   (8, 1)"
      ]
     },
     "execution_count": 32,
     "metadata": {},
     "output_type": "execute_result"
    }
   ],
   "source": [
    "pd.DataFrame(dets)"
   ]
  },
  {
   "cell_type": "code",
   "execution_count": 33,
   "metadata": {},
   "outputs": [
    {
     "data": {
      "text/plain": [
       "{'ssd300': 0.5, 'ssd512': 0.65, 'yolo416': 0.4, 'frcnn': 0.8}"
      ]
     },
     "execution_count": 33,
     "metadata": {},
     "output_type": "execute_result"
    }
   ],
   "source": [
    "opt_ths"
   ]
  },
  {
   "cell_type": "markdown",
   "metadata": {},
   "source": [
    "## Benchmarks"
   ]
  },
  {
   "cell_type": "code",
   "execution_count": 29,
   "metadata": {},
   "outputs": [],
   "source": [
    "with open('../gen_data/benchmarks.pkl', 'rb') as f:\n",
    "    times = pickle.load(f)"
   ]
  },
  {
   "cell_type": "code",
   "execution_count": 30,
   "metadata": {},
   "outputs": [],
   "source": [
    "# pd.DataFrame({key: val for key, val in times['GPU'].items()})"
   ]
  },
  {
   "cell_type": "code",
   "execution_count": 31,
   "metadata": {},
   "outputs": [],
   "source": [
    "# pd.DataFrame({key: val[1:] for key, val in times['CPU'].items()})"
   ]
  },
  {
   "cell_type": "code",
   "execution_count": 40,
   "metadata": {},
   "outputs": [
    {
     "data": {
      "text/plain": [
       "<matplotlib.axes._subplots.AxesSubplot at 0x7f562f925e10>"
      ]
     },
     "execution_count": 40,
     "metadata": {},
     "output_type": "execute_result"
    },
    {
     "data": {
      "image/png": "[encoded data removed]",
      "text/plain": [
       "<Figure size 432x288 with 1 Axes>"
      ]
     },
     "metadata": {
      "needs_background": "light"
     },
     "output_type": "display_data"
    }
   ],
   "source": [
    "pd.DataFrame(times['GPU']).boxplot()"
   ]
  },
  {
   "cell_type": "code",
   "execution_count": 41,
   "metadata": {},
   "outputs": [
    {
     "data": {
      "text/plain": [
       "<matplotlib.axes._subplots.AxesSubplot at 0x7f562f3713c8>"
      ]
     },
     "execution_count": 41,
     "metadata": {},
     "output_type": "execute_result"
    },
    {
     "data": {
      "image/png": "[encoded data removed]",
      "text/plain": [
       "<Figure size 432x288 with 1 Axes>"
      ]
     },
     "metadata": {
      "needs_background": "light"
     },
     "output_type": "display_data"
    }
   ],
   "source": [
    "pd.DataFrame(times['CPU']).boxplot()"
   ]
  },
  {
   "cell_type": "code",
   "execution_count": 36,
   "metadata": {},
   "outputs": [],
   "source": [
    "tdf = pd.DataFrame(times).applymap(lambda x: 1/np.mean(x)).T[cfg.used_model_names]\n",
    "tdf.columns = cfg.formated_model_names"
   ]
  },
  {
   "cell_type": "code",
   "execution_count": 37,
   "metadata": {},
   "outputs": [
    {
     "data": {
      "text/html": [
       "<div>\n",
       "<style scoped>\n",
       "    .dataframe tbody tr th:only-of-type {\n",
       "        vertical-align: middle;\n",
       "    }\n",
       "\n",
       "    .dataframe tbody tr th {\n",
       "        vertical-align: top;\n",
       "    }\n",
       "\n",
       "    .dataframe thead th {\n",
       "        text-align: right;\n",
       "    }\n",
       "</style>\n",
       "<table border=\"1\" class=\"dataframe\">\n",
       "  <thead>\n",
       "    <tr style=\"text-align: right;\">\n",
       "      <th></th>\n",
       "      <th>SSD300</th>\n",
       "      <th>SSD512</th>\n",
       "      <th>YOLOv3-416</th>\n",
       "      <th>Faster R-CNN</th>\n",
       "    </tr>\n",
       "  </thead>\n",
       "  <tbody>\n",
       "    <tr>\n",
       "      <th>GPU</th>\n",
       "      <td>52.330965</td>\n",
       "      <td>45.813648</td>\n",
       "      <td>44.651485</td>\n",
       "      <td>2.981578</td>\n",
       "    </tr>\n",
       "    <tr>\n",
       "      <th>CPU</th>\n",
       "      <td>1.724425</td>\n",
       "      <td>2.021954</td>\n",
       "      <td>1.588788</td>\n",
       "      <td>0.060284</td>\n",
       "    </tr>\n",
       "  </tbody>\n",
       "</table>\n",
       "</div>"
      ],
      "text/plain": [
       "        SSD300     SSD512  YOLOv3-416  Faster R-CNN\n",
       "GPU  52.330965  45.813648   44.651485      2.981578\n",
       "CPU   1.724425   2.021954    1.588788      0.060284"
      ]
     },
     "execution_count": 37,
     "metadata": {},
     "output_type": "execute_result"
    }
   ],
   "source": [
    "tdf"
   ]
  },
  {
   "cell_type": "code",
   "execution_count": 39,
   "metadata": {},
   "outputs": [],
   "source": [
    "save_text(tdf.round(3).to_latex(), '../outputs/benchmark.txt')"
   ]
  },
  {
   "cell_type": "code",
   "execution_count": 38,
   "metadata": {},
   "outputs": [
    {
     "data": {
      "text/html": [
       "<div>\n",
       "<style scoped>\n",
       "    .dataframe tbody tr th:only-of-type {\n",
       "        vertical-align: middle;\n",
       "    }\n",
       "\n",
       "    .dataframe tbody tr th {\n",
       "        vertical-align: top;\n",
       "    }\n",
       "\n",
       "    .dataframe thead th {\n",
       "        text-align: right;\n",
       "    }\n",
       "</style>\n",
       "<table border=\"1\" class=\"dataframe\">\n",
       "  <thead>\n",
       "    <tr style=\"text-align: right;\">\n",
       "      <th></th>\n",
       "      <th>frcnn</th>\n",
       "      <th>ssd300</th>\n",
       "      <th>ssd512</th>\n",
       "      <th>yolo416</th>\n",
       "    </tr>\n",
       "  </thead>\n",
       "  <tbody>\n",
       "    <tr>\n",
       "      <th>GPU</th>\n",
       "      <td>110</td>\n",
       "      <td>110</td>\n",
       "      <td>110</td>\n",
       "      <td>110</td>\n",
       "    </tr>\n",
       "    <tr>\n",
       "      <th>CPU</th>\n",
       "      <td>110</td>\n",
       "      <td>110</td>\n",
       "      <td>110</td>\n",
       "      <td>110</td>\n",
       "    </tr>\n",
       "  </tbody>\n",
       "</table>\n",
       "</div>"
      ],
      "text/plain": [
       "     frcnn  ssd300  ssd512  yolo416\n",
       "GPU    110     110     110      110\n",
       "CPU    110     110     110      110"
      ]
     },
     "execution_count": 38,
     "metadata": {},
     "output_type": "execute_result"
    }
   ],
   "source": [
    "pd.DataFrame(times).applymap(lambda x: len(x)).T"
   ]
  },
  {
   "cell_type": "code",
   "execution_count": 46,
   "metadata": {},
   "outputs": [],
   "source": [
    "tdf = pd.DataFrame(times)"
   ]
  },
  {
   "cell_type": "code",
   "execution_count": 47,
   "metadata": {},
   "outputs": [
    {
     "data": {
      "text/plain": [
       "0.8154554934728713"
      ]
     },
     "execution_count": 47,
     "metadata": {},
     "output_type": "execute_result"
    }
   ],
   "source": [
    "np.mean(tdf.iloc[0,0])"
   ]
  },
  {
   "cell_type": "code",
   "execution_count": null,
   "metadata": {},
   "outputs": [],
   "source": []
  }
 ],
 "metadata": {
  "kernelspec": {
   "display_name": "Python 3",
   "language": "python",
   "name": "python3"
  },
  "language_info": {
   "codemirror_mode": {
    "name": "ipython",
    "version": 3
   },
   "file_extension": ".py",
   "mimetype": "text/x-python",
   "name": "python",
   "nbconvert_exporter": "python",
   "pygments_lexer": "ipython3",
   "version": "3.7.3"
  }
 },
 "nbformat": 4,
 "nbformat_minor": 4
}
